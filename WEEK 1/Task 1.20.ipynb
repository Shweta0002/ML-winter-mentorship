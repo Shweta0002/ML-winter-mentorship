{
 "cells": [
  {
   "cell_type": "code",
   "execution_count": 4,
   "metadata": {},
   "outputs": [
    {
     "name": "stdout",
     "output_type": "stream",
     "text": [
      "Peaks : 10 7 5 \n",
      "Troughs : 5 5 3 "
     ]
    }
   ],
   "source": [
    "\n",
    "def isPeak(arr, n, num, i, j): \n",
    "\n",
    "\n",
    " if (i >= 0 and arr[i] > num): \n",
    "  return False\n",
    " \n",
    " if (j < n and arr[j] > num): \n",
    "  return False\n",
    " return True\n",
    "\n",
    " \n",
    "def isTrough(arr, n, num, i, j): \n",
    "\n",
    " if (i >= 0 and arr[i] < num): \n",
    "  return False\n",
    " \n",
    " if (j < n and arr[j] < num): \n",
    "  return False\n",
    " return True\n",
    "\n",
    "def printPeaksTroughs(arr, n): \n",
    "\n",
    " print(\"Peaks : \", end = \"\") \n",
    "\n",
    "\n",
    " for i in range(n): \n",
    "\n",
    "\n",
    "  if (isPeak(arr, n, arr[i], i - 1, i + 1)): \n",
    "   print(arr[i], end = \" \") \n",
    " print() \n",
    "\n",
    " print(\"Troughs : \", end = \"\") \n",
    "\n",
    " \n",
    " for i in range(n): \n",
    "\n",
    "  if (isTrough(arr, n, arr[i], i - 1, i + 1)): \n",
    "   print(arr[i], end = \" \") \n",
    "\n",
    " \n",
    "arr = [5, 10, 5, 7, 4, 3, 5] \n",
    "n = len(arr) \n",
    "\n",
    "printPeaksTroughs(arr, n) \n"
   ]
  },
  {
   "cell_type": "code",
   "execution_count": null,
   "metadata": {},
   "outputs": [],
   "source": []
  }
 ],
 "metadata": {
  "kernelspec": {
   "display_name": "Python 3",
   "language": "python",
   "name": "python3"
  },
  "language_info": {
   "codemirror_mode": {
    "name": "ipython",
    "version": 3
   },
   "file_extension": ".py",
   "mimetype": "text/x-python",
   "name": "python",
   "nbconvert_exporter": "python",
   "pygments_lexer": "ipython3",
   "version": "3.7.3"
  }
 },
 "nbformat": 4,
 "nbformat_minor": 2
}
