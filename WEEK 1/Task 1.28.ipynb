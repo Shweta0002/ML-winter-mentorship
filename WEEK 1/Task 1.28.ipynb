{
 "cells": [
  {
   "cell_type": "code",
   "execution_count": 3,
   "metadata": {},
   "outputs": [
    {
     "name": "stdout",
     "output_type": "stream",
     "text": [
      "bog\n",
      "me\n",
      "goal\n"
     ]
    }
   ],
   "source": [
    "#print words which can be created using given set of characters \n",
    "def charCount(word): \n",
    " dict = {} \n",
    " for i in word: \n",
    "  dict[i] = dict.get(i, 0) + 1\n",
    " return dict\n",
    "\n",
    "\n",
    "def possible_words(lwords, charSet): \n",
    " for word in lwords: \n",
    "  flag = 1\n",
    "  chars = charCount(word) \n",
    "  for key in chars: \n",
    "   if key not in charSet: \n",
    "    flag = 0\n",
    "  else: \n",
    "    if charSet.count(key) != chars[key]: \n",
    "     flag = 0\n",
    "  if flag == 1: \n",
    "   print(word) \n",
    "\n",
    "if __name__ == \"__main__\": \n",
    " input = ['bog', 'bat', 'me', 'goal'] \n",
    " charSet = ['e', 'o', 'b', 'a', 'm', 'g', 'l'] \n",
    " possible_words(input, charSet) \n"
   ]
  },
  {
   "cell_type": "code",
   "execution_count": null,
   "metadata": {},
   "outputs": [],
   "source": []
  }
 ],
 "metadata": {
  "kernelspec": {
   "display_name": "Python 3",
   "language": "python",
   "name": "python3"
  },
  "language_info": {
   "codemirror_mode": {
    "name": "ipython",
    "version": 3
   },
   "file_extension": ".py",
   "mimetype": "text/x-python",
   "name": "python",
   "nbconvert_exporter": "python",
   "pygments_lexer": "ipython3",
   "version": "3.7.3"
  }
 },
 "nbformat": 4,
 "nbformat_minor": 2
}
