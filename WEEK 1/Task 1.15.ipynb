{
 "cells": [
  {
   "cell_type": "code",
   "execution_count": 4,
   "metadata": {},
   "outputs": [
    {
     "name": "stdout",
     "output_type": "stream",
     "text": [
      "The original list is : [('H', 'E', 'L', 'L', 'O'), ('G', 'I', 'R', 'L', 'S')]\n",
      "The list after conversion to list of string : ['H-E-L-L-O', 'G-I-R-L-S']\n"
     ]
    }
   ],
   "source": [
    "\n",
    "\n",
    "test_list = [('H', 'E', 'L', 'L', 'O'), ('G', 'I', 'R', 'L', 'S')]  \n",
    "print (\"The original list is : \" + str(test_list)) \n",
    "res = ['-'.join(i) for i in test_list] \n",
    "print (\"The list after conversion to list of string : \" + str(res)) \n"
   ]
  },
  {
   "cell_type": "code",
   "execution_count": null,
   "metadata": {},
   "outputs": [],
   "source": []
  }
 ],
 "metadata": {
  "kernelspec": {
   "display_name": "Python 3",
   "language": "python",
   "name": "python3"
  },
  "language_info": {
   "codemirror_mode": {
    "name": "ipython",
    "version": 3
   },
   "file_extension": ".py",
   "mimetype": "text/x-python",
   "name": "python",
   "nbconvert_exporter": "python",
   "pygments_lexer": "ipython3",
   "version": "3.7.3"
  }
 },
 "nbformat": 4,
 "nbformat_minor": 2
}
