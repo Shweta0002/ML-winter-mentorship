{
 "cells": [
  {
   "cell_type": "code",
   "execution_count": 7,
   "metadata": {},
   "outputs": [
    {
     "name": "stdout",
     "output_type": "stream",
     "text": [
      "14.,625.,498 002\n"
     ]
    }
   ],
   "source": [
    "\n",
    "#code to replace, with . and vice-versa \n",
    "def Replace(str1): \n",
    " maketrans = str1.maketrans \n",
    " final = str1.translate(maketrans(', .', '., ')) \n",
    " return final \n",
    "\n",
    "\n",
    "string = \"14, 625, 498.002\"\n",
    "print(Replace(string)) \n"
   ]
  },
  {
   "cell_type": "code",
   "execution_count": null,
   "metadata": {},
   "outputs": [],
   "source": []
  }
 ],
 "metadata": {
  "kernelspec": {
   "display_name": "Python 3",
   "language": "python",
   "name": "python3"
  },
  "language_info": {
   "codemirror_mode": {
    "name": "ipython",
    "version": 3
   },
   "file_extension": ".py",
   "mimetype": "text/x-python",
   "name": "python",
   "nbconvert_exporter": "python",
   "pygments_lexer": "ipython3",
   "version": "3.7.3"
  }
 },
 "nbformat": 4,
 "nbformat_minor": 2
}
