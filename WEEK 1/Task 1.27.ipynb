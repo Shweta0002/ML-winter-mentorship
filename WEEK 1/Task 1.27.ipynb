{
 "cells": [
  {
   "cell_type": "code",
   "execution_count": 3,
   "metadata": {},
   "outputs": [
    {
     "name": "stdout",
     "output_type": "stream",
     "text": [
      "The original dictionary is : {'Girls': {'Sonu': 15, 'Monu': 'good'}, 'Boys': {'RAtan': 13, 'Hiram Lodge': 23}}\n",
      "The Pretty Print dictionary is : \n",
      "Girls\n",
      "Sonu : 15\n",
      "Monu : good\n",
      "Boys\n",
      "RAtan : 13\n",
      "Hiram Lodge : 23\n"
     ]
    }
   ],
   "source": [
    "# Python3 code to demonstrate working of \n",
    "# Pretty Print a dictionary with dictionary value \n",
    "# Using loops \n",
    "\n",
    "# initializing dictionary \n",
    "test_dict = {'Girls' : {'Sonu' : 15, 'Monu' : 'good'}, 'Boys' : {'RAtan' : 13,'Hiram Lodge' :23}} \n",
    "\n",
    "# printing original dictionary \n",
    "print(\"The original dictionary is : \" + str(test_dict)) \n",
    "\n",
    "# using loops to Pretty Print \n",
    "print(\"The Pretty Print dictionary is : \") \n",
    "for sub in test_dict: \n",
    "\tprint (sub) \n",
    "\tfor sub_nest in test_dict[sub]: \n",
    "\t\tprint (sub_nest, ':', test_dict[sub][sub_nest]) \n",
    "\n"
   ]
  },
  {
   "cell_type": "code",
   "execution_count": null,
   "metadata": {},
   "outputs": [],
   "source": []
  }
 ],
 "metadata": {
  "kernelspec": {
   "display_name": "Python 3",
   "language": "python",
   "name": "python3"
  },
  "language_info": {
   "codemirror_mode": {
    "name": "ipython",
    "version": 3
   },
   "file_extension": ".py",
   "mimetype": "text/x-python",
   "name": "python",
   "nbconvert_exporter": "python",
   "pygments_lexer": "ipython3",
   "version": "3.7.3"
  }
 },
 "nbformat": 4,
 "nbformat_minor": 2
}
