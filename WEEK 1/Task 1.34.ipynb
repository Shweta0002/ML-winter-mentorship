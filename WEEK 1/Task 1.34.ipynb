{
 "cells": [
  {
   "cell_type": "code",
   "execution_count": 2,
   "metadata": {},
   "outputs": [
    {
     "name": "stdout",
     "output_type": "stream",
     "text": [
      "2\n"
     ]
    }
   ],
   "source": [
    "\n",
    "def gcdfunc(x, y): \n",
    " while(y): \n",
    "  x, y = y, x % y \n",
    "\n",
    " return x \n",
    "\n",
    "l = [2, 4, 6, 8, 16] \n",
    "\n",
    "num1=l[0] \n",
    "num2=l[1] \n",
    "gcd=gcdfunc(num1,num2) \n",
    "\n",
    "for i in range(2,len(l)): \n",
    " gcd=gcdfunc(gcd,l[i]) \n",
    "\n",
    "print(gcd) \n",
    "\n"
   ]
  },
  {
   "cell_type": "code",
   "execution_count": null,
   "metadata": {},
   "outputs": [],
   "source": []
  }
 ],
 "metadata": {
  "kernelspec": {
   "display_name": "Python 3",
   "language": "python",
   "name": "python3"
  },
  "language_info": {
   "codemirror_mode": {
    "name": "ipython",
    "version": 3
   },
   "file_extension": ".py",
   "mimetype": "text/x-python",
   "name": "python",
   "nbconvert_exporter": "python",
   "pygments_lexer": "ipython3",
   "version": "3.7.3"
  }
 },
 "nbformat": 4,
 "nbformat_minor": 2
}
