{
 "cells": [
  {
   "cell_type": "code",
   "execution_count": null,
   "metadata": {},
   "outputs": [],
   "source": [
    "\n",
    "def allAnagram(input): \n",
    " \n",
    "\n",
    " dict = {} \n",
    "\n",
    "\n",
    " for strVal in input: \n",
    "  \n",
    "\n",
    "  key = ''.join(sorted(strVal)) \n",
    "    \n",
    "  if key in dict.keys(): \n",
    "   dict[key].append(strVal) \n",
    "  else: \n",
    "   dict[key] = [] \n",
    "   dict[key].append(strVal) \n",
    "\n",
    "\n",
    " output = \"\" \n",
    " for key,value in dict.iteritems(): \n",
    "  output = output + ' '.join(value) + ' '\n",
    "\n",
    " return output \n",
    "\n",
    "if __name__ == \"__main__\": \n",
    " input=['cat', 'dog', 'tac', 'god', 'act'] \n",
    " print allAnagram(input) \n"
   ]
  }
 ],
 "metadata": {
  "kernelspec": {
   "display_name": "Python 3",
   "language": "python",
   "name": "python3"
  },
  "language_info": {
   "codemirror_mode": {
    "name": "ipython",
    "version": 3
   },
   "file_extension": ".py",
   "mimetype": "text/x-python",
   "name": "python",
   "nbconvert_exporter": "python",
   "pygments_lexer": "ipython3",
   "version": "3.7.3"
  }
 },
 "nbformat": 4,
 "nbformat_minor": 2
}
