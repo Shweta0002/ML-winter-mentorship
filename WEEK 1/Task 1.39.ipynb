{
 "cells": [
  {
   "cell_type": "code",
   "execution_count": 5,
   "metadata": {},
   "outputs": [
    {
     "name": "stdout",
     "output_type": "stream",
     "text": [
      "Enter your floating point value : \n",
      "2.54\n",
      "Enter the number of decimal places of the result : \n",
      "3\n",
      "10.111\n"
     ]
    }
   ],
   "source": [
    "\n",
    "def float_bin(number, places = 3): \n",
    " whole, dec = str(number).split(\".\") \n",
    " whole = int(whole) \n",
    " dec = int (dec) \n",
    " res = bin(whole).lstrip(\"0b\") + \".\"\n",
    " for x in range(places): \n",
    "  whole, dec = str((decimal_converter(dec)) * 2).split(\".\") \n",
    "  dec = int(dec) \n",
    "  res += whole \n",
    " return res \n",
    "def decimal_converter(num): \n",
    " while num > 1: \n",
    "  num /= 10\n",
    " return num  \n",
    "n = input(\"Enter your floating point value : \\n\") \n",
    "p = int(input(\"Enter the number of decimal places of the result : \\n\")) \n",
    "print(float_bin(n, places = p)) \n"
   ]
  },
  {
   "cell_type": "code",
   "execution_count": null,
   "metadata": {},
   "outputs": [],
   "source": []
  },
  {
   "cell_type": "code",
   "execution_count": null,
   "metadata": {},
   "outputs": [],
   "source": []
  }
 ],
 "metadata": {
  "kernelspec": {
   "display_name": "Python 3",
   "language": "python",
   "name": "python3"
  },
  "language_info": {
   "codemirror_mode": {
    "name": "ipython",
    "version": 3
   },
   "file_extension": ".py",
   "mimetype": "text/x-python",
   "name": "python",
   "nbconvert_exporter": "python",
   "pygments_lexer": "ipython3",
   "version": "3.7.3"
  }
 },
 "nbformat": 4,
 "nbformat_minor": 2
}
