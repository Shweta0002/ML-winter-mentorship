{
 "cells": [
  {
   "cell_type": "code",
   "execution_count": 2,
   "metadata": {},
   "outputs": [
    {
     "name": "stdout",
     "output_type": "stream",
     "text": [
      "Yes\n"
     ]
    }
   ],
   "source": [
    "\n",
    "def checkDivisibility(n, digit) : \n",
    " \n",
    " return (digit != 0 and n % digit == 0) \n",
    "def allDigitsDivide( n) : \n",
    "\n",
    " temp = n \n",
    " while (temp > 0) : \n",
    "  digit = n % 10\n",
    "  if ((checkDivisibility(n, digit)) == False) : \n",
    "   return False\n",
    "\n",
    "  temp = temp // 10\n",
    "\n",
    " return True\n",
    "\n",
    "\n",
    "n = 128\n",
    "\n",
    "if (allDigitsDivide(n)) : \n",
    " print(\"Yes\") \n",
    "else : \n",
    " print(\"No\" ) \n",
    "\n",
    "\n"
   ]
  },
  {
   "cell_type": "code",
   "execution_count": null,
   "metadata": {},
   "outputs": [],
   "source": []
  }
 ],
 "metadata": {
  "kernelspec": {
   "display_name": "Python 3",
   "language": "python",
   "name": "python3"
  },
  "language_info": {
   "codemirror_mode": {
    "name": "ipython",
    "version": 3
   },
   "file_extension": ".py",
   "mimetype": "text/x-python",
   "name": "python",
   "nbconvert_exporter": "python",
   "pygments_lexer": "ipython3",
   "version": "3.7.3"
  }
 },
 "nbformat": 4,
 "nbformat_minor": 2
}
