{
 "cells": [
  {
   "cell_type": "code",
   "execution_count": 3,
   "metadata": {},
   "outputs": [
    {
     "name": "stdout",
     "output_type": "stream",
     "text": [
      "The dictionary before performing remove is : {'RAachel': 22, 'Joey': 21, 'Mani': 21, 'Karnika': 21}\n",
      "The dictionary after remove is : {'RAachel': 22, 'Joey': 21, 'Karnika': 21}\n"
     ]
    }
   ],
   "source": [
    " \n",
    "test_dict = {\"RAachel\" : 22, \"Joey\" : 21, \"Mani\" : 21, \"Karnika\" : 21} \n",
    "\n",
    "\n",
    "print (\"The dictionary before performing remove is : \" + str(test_dict)) \n",
    "\n",
    "\n",
    "del test_dict['Mani'] \n",
    "\n",
    " \n",
    "print (\"The dictionary after remove is : \" + str(test_dict)) \n",
    "\n",
    "\n"
   ]
  },
  {
   "cell_type": "code",
   "execution_count": null,
   "metadata": {},
   "outputs": [],
   "source": []
  }
 ],
 "metadata": {
  "kernelspec": {
   "display_name": "Python 3",
   "language": "python",
   "name": "python3"
  },
  "language_info": {
   "codemirror_mode": {
    "name": "ipython",
    "version": 3
   },
   "file_extension": ".py",
   "mimetype": "text/x-python",
   "name": "python",
   "nbconvert_exporter": "python",
   "pygments_lexer": "ipython3",
   "version": "3.7.3"
  }
 },
 "nbformat": 4,
 "nbformat_minor": 2
}
