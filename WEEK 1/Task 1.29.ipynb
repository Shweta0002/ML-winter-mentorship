{
 "cells": [
  {
   "cell_type": "code",
   "execution_count": 14,
   "metadata": {},
   "outputs": [
    {
     "name": "stdout",
     "output_type": "stream",
     "text": [
      "you are how\n"
     ]
    }
   ],
   "source": [
    "#reverse words of string \n",
    "\n",
    "def reversewords(input): \n",
    "    words = input.split(\" \") \n",
    "    words=words[-1::-1] \n",
    "    output = ' '.join(words) \n",
    "\n",
    "    return output \n",
    "\n",
    "if __name__ == \"__main__\": \n",
    "     input = 'how are you'\n",
    "print (reversewords (input)) \n"
   ]
  },
  {
   "cell_type": "code",
   "execution_count": null,
   "metadata": {},
   "outputs": [],
   "source": []
  }
 ],
 "metadata": {
  "kernelspec": {
   "display_name": "Python 3",
   "language": "python",
   "name": "python3"
  },
  "language_info": {
   "codemirror_mode": {
    "name": "ipython",
    "version": 3
   },
   "file_extension": ".py",
   "mimetype": "text/x-python",
   "name": "python",
   "nbconvert_exporter": "python",
   "pygments_lexer": "ipython3",
   "version": "3.7.3"
  }
 },
 "nbformat": 4,
 "nbformat_minor": 2
}
