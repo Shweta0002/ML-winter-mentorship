{
 "cells": [
  {
   "cell_type": "code",
   "execution_count": 8,
   "metadata": {},
   "outputs": [
    {
     "name": "stdout",
     "output_type": "stream",
     "text": [
      "Enter your non-zero number less than 100  20\n",
      "Weird\n"
     ]
    }
   ],
   "source": [
    "num= int(input('Enter your non-zero number less than 100  '))\n",
    "if ((num%2)==1):\n",
    " print(\"Weird\")\n",
    "elif (1<num<6):\n",
    " print(\"Not Weird\")\n",
    "elif (5<num<21):\n",
    " print(\"Weird\")    \n",
    "elif(num>20):\n",
    " print(\"Not Weird\")    \n",
    "    \n",
    "\n"
   ]
  },
  {
   "cell_type": "code",
   "execution_count": null,
   "metadata": {},
   "outputs": [],
   "source": []
  },
  {
   "cell_type": "code",
   "execution_count": null,
   "metadata": {},
   "outputs": [],
   "source": []
  }
 ],
 "metadata": {
  "kernelspec": {
   "display_name": "Python 3",
   "language": "python",
   "name": "python3"
  },
  "language_info": {
   "codemirror_mode": {
    "name": "ipython",
    "version": 3
   },
   "file_extension": ".py",
   "mimetype": "text/x-python",
   "name": "python",
   "nbconvert_exporter": "python",
   "pygments_lexer": "ipython3",
   "version": "3.7.3"
  }
 },
 "nbformat": 4,
 "nbformat_minor": 2
}
