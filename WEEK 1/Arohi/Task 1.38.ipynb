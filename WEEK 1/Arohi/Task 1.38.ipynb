{
 "cells": [
  {
   "cell_type": "code",
   "execution_count": 1,
   "metadata": {},
   "outputs": [
    {
     "name": "stdout",
     "output_type": "stream",
     "text": [
      "Vertex: ( -0.3 ,  1.55 )\n",
      "Focus: ( -0.3 ,  1.6 )\n",
      "Directrix: y= -198\n"
     ]
    }
   ],
   "source": [
    "\n",
    "def parabola(a, b, c): \n",
    " print (\"Vertex: (\" , (-b / (2 * a)) , \", \"\n",
    "  ,(((4 * a * c) - (b * b)) / (4 * a)) , \")\" ) \n",
    "\n",
    " print (\"Focus: (\" , (-b / (2 * a)) , \", \"\n",
    "  , (((4 * a * c) - (b * b) + 1) / (4 * a)) , \")\" ) \n",
    " \n",
    " print (\"Directrix: y=\"\n",
    "   , (int)(c - ((b * b) + 1) * 4 * a ))\t \n",
    "a = 5\n",
    "b = 3\n",
    "c = 2\n",
    "\n",
    "parabola(a, b, c) \n",
    "\n"
   ]
  },
  {
   "cell_type": "code",
   "execution_count": null,
   "metadata": {},
   "outputs": [],
   "source": []
  }
 ],
 "metadata": {
  "kernelspec": {
   "display_name": "Python 3",
   "language": "python",
   "name": "python3"
  },
  "language_info": {
   "codemirror_mode": {
    "name": "ipython",
    "version": 3
   },
   "file_extension": ".py",
   "mimetype": "text/x-python",
   "name": "python",
   "nbconvert_exporter": "python",
   "pygments_lexer": "ipython3",
   "version": "3.7.3"
  }
 },
 "nbformat": 4,
 "nbformat_minor": 2
}
