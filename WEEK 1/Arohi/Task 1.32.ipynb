{
 "cells": [
  {
   "cell_type": "code",
   "execution_count": 2,
   "metadata": {},
   "outputs": [
    {
     "name": "stdout",
     "output_type": "stream",
     "text": [
      "The original string is : Foolo ka taaro ka sabka kehna hai\n",
      "Does string contain spaces ? True\n"
     ]
    }
   ],
   "source": [
    "\n",
    "test_str = \"Foolo ka taaro ka sabka kehna hai\"\n",
    "print(\"The original string is : \" + test_str) \n",
    "res = \" \" in test_str \n",
    "print(\"Does string contain spaces ? \" + str(res)) \n"
   ]
  },
  {
   "cell_type": "code",
   "execution_count": null,
   "metadata": {},
   "outputs": [],
   "source": []
  }
 ],
 "metadata": {
  "kernelspec": {
   "display_name": "Python 3",
   "language": "python",
   "name": "python3"
  },
  "language_info": {
   "codemirror_mode": {
    "name": "ipython",
    "version": 3
   },
   "file_extension": ".py",
   "mimetype": "text/x-python",
   "name": "python",
   "nbconvert_exporter": "python",
   "pygments_lexer": "ipython3",
   "version": "3.7.3"
  }
 },
 "nbformat": 4,
 "nbformat_minor": 2
}
