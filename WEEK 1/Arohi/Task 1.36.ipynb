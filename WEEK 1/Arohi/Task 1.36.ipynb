{
 "cells": [
  {
   "cell_type": "code",
   "execution_count": 3,
   "metadata": {},
   "outputs": [
    {
     "name": "stdout",
     "output_type": "stream",
     "text": [
      "Focal length of spherical concave mirror is : 15.0  units\n",
      "Focal length of spherical convex mirror is :  -15.0  units\n"
     ]
    }
   ],
   "source": [
    "\n",
    "def focal_length_concave(R): \n",
    " return R / 2\n",
    " \n",
    "def focal_length_convex(R): \n",
    " return - ( R/ 2 ) \n",
    "\n",
    "R = 30;\n",
    "\n",
    "print(\"Focal length of spherical concave mirror is :\", \n",
    "  focal_length_concave(R),\" units\") \n",
    "print(\"Focal length of spherical convex mirror is : \", \n",
    "  focal_length_convex(R),\" units\") \n"
   ]
  },
  {
   "cell_type": "code",
   "execution_count": null,
   "metadata": {},
   "outputs": [],
   "source": []
  }
 ],
 "metadata": {
  "kernelspec": {
   "display_name": "Python 3",
   "language": "python",
   "name": "python3"
  },
  "language_info": {
   "codemirror_mode": {
    "name": "ipython",
    "version": 3
   },
   "file_extension": ".py",
   "mimetype": "text/x-python",
   "name": "python",
   "nbconvert_exporter": "python",
   "pygments_lexer": "ipython3",
   "version": "3.7.3"
  }
 },
 "nbformat": 4,
 "nbformat_minor": 2
}
