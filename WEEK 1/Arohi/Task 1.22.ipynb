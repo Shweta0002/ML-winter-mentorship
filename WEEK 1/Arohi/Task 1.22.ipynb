{
 "cells": [
  {
   "cell_type": "code",
   "execution_count": 4,
   "metadata": {},
   "outputs": [
    {
     "name": "stdout",
     "output_type": "stream",
     "text": [
      "The original dictionary is : {'gfg': [5, 6, 7, 1, 1, 1, 1, 1, 1, 1, 1], 'is': [10, 11, 12], 'best': [19, 31, 22, 10000]}\n",
      "Summation of dictionary list values are : 18\n"
     ]
    }
   ],
   "source": [
    "\n",
    "test_dict = {'gfg' : [5, 6, 7,1,1,1,1,1,1,1,1], 'is' : [10, 11,12], 'best' : [19, 31, 22,10000]} \n",
    "\n",
    "# printing original dictionary \n",
    "print(\"The original dictionary is : \" + str(test_dict)) \n",
    "\n",
    "# Summation of dictionary list values \n",
    "# using sum() + list comprehension \n",
    "res = sum(len(sub) for sub in test_dict.values()) \n",
    "\n",
    "# printing result \n",
    "print(\"Summation of dictionary list values are : \" + str(res)) \n"
   ]
  },
  {
   "cell_type": "code",
   "execution_count": null,
   "metadata": {},
   "outputs": [],
   "source": []
  }
 ],
 "metadata": {
  "kernelspec": {
   "display_name": "Python 3",
   "language": "python",
   "name": "python3"
  },
  "language_info": {
   "codemirror_mode": {
    "name": "ipython",
    "version": 3
   },
   "file_extension": ".py",
   "mimetype": "text/x-python",
   "name": "python",
   "nbconvert_exporter": "python",
   "pygments_lexer": "ipython3",
   "version": "3.7.3"
  }
 },
 "nbformat": 4,
 "nbformat_minor": 2
}
