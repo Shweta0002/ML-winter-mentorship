{
 "cells": [
  {
   "cell_type": "code",
   "execution_count": 3,
   "metadata": {},
   "outputs": [
    {
     "name": "stdout",
     "output_type": "stream",
     "text": [
      "The original key list : ['item1', 'item2']\n",
      "The original nested name list : ['Aarohi', 'Isha']\n",
      "The original nested age list : [20, 15]\n",
      "The dictionary after construction : {'item1': {'name': 'Aarohi', 'age': 20}, 'item2': {'name': 'Isha', 'age': 15}}\n"
     ]
    }
   ],
   "source": [
    "\n",
    "keys_list = [\"item1\", \"item2\"] \n",
    "name = [\"Aarohi\", \"Isha\"] \n",
    "age = [20, 15] \n",
    "\n",
    "print(\"The original key list : \" + str(keys_list)) \n",
    "print(\"The original nested name list : \" + str(name)) \n",
    "print(\"The original nested age list : \" + str(age)) \n",
    "\n",
    "\n",
    "res = {val : {\"name\": name[key], \"age\":age[key]} \n",
    " for key, val in enumerate(keys_list)} \n",
    "\n",
    "print(\"The dictionary after construction : \" + str(res)) \n"
   ]
  },
  {
   "cell_type": "code",
   "execution_count": null,
   "metadata": {},
   "outputs": [],
   "source": []
  }
 ],
 "metadata": {
  "kernelspec": {
   "display_name": "Python 3",
   "language": "python",
   "name": "python3"
  },
  "language_info": {
   "codemirror_mode": {
    "name": "ipython",
    "version": 3
   },
   "file_extension": ".py",
   "mimetype": "text/x-python",
   "name": "python",
   "nbconvert_exporter": "python",
   "pygments_lexer": "ipython3",
   "version": "3.7.3"
  }
 },
 "nbformat": 4,
 "nbformat_minor": 2
}
