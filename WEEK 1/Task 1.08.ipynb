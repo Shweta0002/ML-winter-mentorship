{
 "cells": [
  {
   "cell_type": "code",
   "execution_count": 3,
   "metadata": {},
   "outputs": [
    {
     "name": "stdout",
     "output_type": "stream",
     "text": [
      "10 has occurred 2 times\n"
     ]
    }
   ],
   "source": [
    "#count the number of occurrences \n",
    "def countX(list, x): \n",
    " count = 0\n",
    " for ele in list: \n",
    "  if (ele == x): \n",
    "   count = count + 1\n",
    " return count \n",
    "\n",
    "\n",
    "list = [8, 6, 8, 10, 8, 20, 10, 8, 8] \n",
    "x = 10\n",
    "print('{} has occurred {} times'.format(x, countX(lst, x))) \n"
   ]
  },
  {
   "cell_type": "code",
   "execution_count": null,
   "metadata": {},
   "outputs": [],
   "source": []
  }
 ],
 "metadata": {
  "kernelspec": {
   "display_name": "Python 3",
   "language": "python",
   "name": "python3"
  },
  "language_info": {
   "codemirror_mode": {
    "name": "ipython",
    "version": 3
   },
   "file_extension": ".py",
   "mimetype": "text/x-python",
   "name": "python",
   "nbconvert_exporter": "python",
   "pygments_lexer": "ipython3",
   "version": "3.7.3"
  }
 },
 "nbformat": 4,
 "nbformat_minor": 2
}
