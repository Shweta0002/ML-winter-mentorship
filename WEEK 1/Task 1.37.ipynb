{
 "cells": [
  {
   "cell_type": "code",
   "execution_count": 1,
   "metadata": {},
   "outputs": [
    {
     "name": "stdout",
     "output_type": "stream",
     "text": [
      "YES\n"
     ]
    }
   ],
   "source": [
    "\n",
    "def isTriangleExists(a, b, c): \n",
    " if(a != 0 and b != 0 and c != 0 and (a + b + c)== 180): \n",
    "\n",
    "  if((a + b)>= c or (b + c)>= a or (a + c)>= b): \n",
    "   return \"YES\"\n",
    "  else: \n",
    "   return \"NO\"\n",
    " else: \n",
    "  return \"NO\"\n",
    "#Example\n",
    "a, b, c = 50, 60, 70\n",
    "\n",
    "print(isTriangleExists(50, 60, 70)) \n"
   ]
  },
  {
   "cell_type": "code",
   "execution_count": null,
   "metadata": {},
   "outputs": [],
   "source": []
  }
 ],
 "metadata": {
  "kernelspec": {
   "display_name": "Python 3",
   "language": "python",
   "name": "python3"
  },
  "language_info": {
   "codemirror_mode": {
    "name": "ipython",
    "version": 3
   },
   "file_extension": ".py",
   "mimetype": "text/x-python",
   "name": "python",
   "nbconvert_exporter": "python",
   "pygments_lexer": "ipython3",
   "version": "3.7.3"
  }
 },
 "nbformat": 4,
 "nbformat_minor": 2
}
