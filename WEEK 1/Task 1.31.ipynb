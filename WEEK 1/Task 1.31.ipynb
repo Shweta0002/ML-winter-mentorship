{
 "cells": [
  {
   "cell_type": "code",
   "execution_count": 1,
   "metadata": {},
   "outputs": [
    {
     "name": "stdout",
     "output_type": "stream",
     "text": [
      "The original string is : abbabba\n",
      "The string after replacement of positions : baabaab\n"
     ]
    }
   ],
   "source": [
    "\n",
    "test_str = \"abbabba\"\n",
    "print(\"The original string is : \" + str(test_str)) \n",
    "res = test_str.replace('a', '%temp%').replace('b', 'a').replace('%temp%', 'b') \n",
    "print(\"The string after replacement of positions : \" + res) \n"
   ]
  },
  {
   "cell_type": "code",
   "execution_count": null,
   "metadata": {},
   "outputs": [],
   "source": []
  }
 ],
 "metadata": {
  "kernelspec": {
   "display_name": "Python 3",
   "language": "python",
   "name": "python3"
  },
  "language_info": {
   "codemirror_mode": {
    "name": "ipython",
    "version": 3
   },
   "file_extension": ".py",
   "mimetype": "text/x-python",
   "name": "python",
   "nbconvert_exporter": "python",
   "pygments_lexer": "ipython3",
   "version": "3.7.3"
  }
 },
 "nbformat": 4,
 "nbformat_minor": 2
}
