{
 "cells": [
  {
   "cell_type": "code",
   "execution_count": 1,
   "metadata": {},
   "outputs": [
    {
     "name": "stdout",
     "output_type": "stream",
     "text": [
      "The original list : [[3, 4, 5], [2, 4, 6], [3, 5, 4]]\n",
      "The percentage of 4 each index is : [0.0, 0.6666666666666666, 0.3333333333333333]\n"
     ]
    }
   ],
   "source": [
    "\n",
    "test_list = [[3, 4, 5], [2, 4, 6], [3, 5, 4]]  \n",
    "print(\"The original list : \" + str(test_list)) \n",
    "res = [] \n",
    "\n",
    "for i in range(len(test_list[1])): \n",
    " res.append(len([j[i] for j in test_list if j[i]== 4 ])/len(test_list)) \n",
    " \n",
    "print(\"The percentage of 4 each index is : \" + str(res)) \n"
   ]
  },
  {
   "cell_type": "code",
   "execution_count": null,
   "metadata": {},
   "outputs": [],
   "source": []
  }
 ],
 "metadata": {
  "kernelspec": {
   "display_name": "Python 3",
   "language": "python",
   "name": "python3"
  },
  "language_info": {
   "codemirror_mode": {
    "name": "ipython",
    "version": 3
   },
   "file_extension": ".py",
   "mimetype": "text/x-python",
   "name": "python",
   "nbconvert_exporter": "python",
   "pygments_lexer": "ipython3",
   "version": "3.7.3"
  }
 },
 "nbformat": 4,
 "nbformat_minor": 2
}
