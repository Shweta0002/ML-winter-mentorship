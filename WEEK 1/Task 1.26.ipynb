{
 "cells": [
  {
   "cell_type": "code",
   "execution_count": 3,
   "metadata": {},
   "outputs": [
    {
     "name": "stdout",
     "output_type": "stream",
     "text": [
      "The original list is : [3, 5, 1, 6, 7, 9, 8, 0]\n",
      "The filtered list is : [6, 9, 8, 0]\n"
     ]
    }
   ],
   "source": [
    "list = [3, 5, 1, 6, 7, 9, 8, 0]  \n",
    "print (\"The original list is : \" + str(list)) \n",
    "counter = 1\n",
    "res = [] \n",
    "for i in list: \n",
    " if counter > 4 or not (i % 2 != 0): \n",
    "  res.append(i) \n",
    " else: \n",
    "  counter += 1\n",
    "print (\"The filtered list is : \" + str(res)) \n"
   ]
  },
  {
   "cell_type": "code",
   "execution_count": null,
   "metadata": {},
   "outputs": [],
   "source": []
  }
 ],
 "metadata": {
  "kernelspec": {
   "display_name": "Python 3",
   "language": "python",
   "name": "python3"
  },
  "language_info": {
   "codemirror_mode": {
    "name": "ipython",
    "version": 3
   },
   "file_extension": ".py",
   "mimetype": "text/x-python",
   "name": "python",
   "nbconvert_exporter": "python",
   "pygments_lexer": "ipython3",
   "version": "3.7.3"
  }
 },
 "nbformat": 4,
 "nbformat_minor": 2
}
