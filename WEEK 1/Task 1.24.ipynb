{
 "cells": [
  {
   "cell_type": "code",
   "execution_count": 2,
   "metadata": {},
   "outputs": [
    {
     "name": "stdout",
     "output_type": "stream",
     "text": [
      "[('aarohi', '15', '8'), ('isha', 'sita'), ('krishna', 'rupi', '45'), ('1', '2')]\n"
     ]
    }
   ],
   "source": [
    "\n",
    "def Remove(tuples): \n",
    " tuples = [t for t in tuples if t] \n",
    " return tuples \n",
    "\n",
    "tuples = [(), ('aarohi','15','8'), (), ('isha', 'sita'), \n",
    "  ('krishna', 'rupi', '45'), ('1','2'),()] \n",
    "print(Remove(tuples)) \n"
   ]
  },
  {
   "cell_type": "code",
   "execution_count": null,
   "metadata": {},
   "outputs": [],
   "source": []
  }
 ],
 "metadata": {
  "kernelspec": {
   "display_name": "Python 3",
   "language": "python",
   "name": "python3"
  },
  "language_info": {
   "codemirror_mode": {
    "name": "ipython",
    "version": 3
   },
   "file_extension": ".py",
   "mimetype": "text/x-python",
   "name": "python",
   "nbconvert_exporter": "python",
   "pygments_lexer": "ipython3",
   "version": "3.7.3"
  }
 },
 "nbformat": 4,
 "nbformat_minor": 2
}
