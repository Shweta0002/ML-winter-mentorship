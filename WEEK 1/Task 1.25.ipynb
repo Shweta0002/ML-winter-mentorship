{
 "cells": [
  {
   "cell_type": "code",
   "execution_count": 2,
   "metadata": {},
   "outputs": [
    {
     "name": "stdout",
     "output_type": "stream",
     "text": [
      "The original list 1 : [('AAROHI', 'ISHU'), ('ISHU', 'AAROHI'), ('1', '2')]\n",
      "The original list 1 : [('AAROHI', 'ISHU'), ('Geeks', 'is')]\n",
      "The filtered list of tuples : [('ISHU', 'AAROHI'), ('1', '2')]\n"
     ]
    }
   ],
   "source": [
    " \n",
    "list1 = [('AAROHI', 'ISHU'), ('ISHU', 'AAROHI'), ('1', '2')] \n",
    "list2 = [('AAROHI', 'ISHU'), ('Geeks', 'is')] \n",
    "print(\"The original list 1 : \" + str(list1)) \n",
    "print(\"The original list 1 : \" + str(list2)) \n",
    "res = [sub for sub in list1 if sub not in list2] \n",
    "print(\"The filtered list of tuples : \" + str(res)) \n"
   ]
  },
  {
   "cell_type": "code",
   "execution_count": null,
   "metadata": {},
   "outputs": [],
   "source": []
  }
 ],
 "metadata": {
  "kernelspec": {
   "display_name": "Python 3",
   "language": "python",
   "name": "python3"
  },
  "language_info": {
   "codemirror_mode": {
    "name": "ipython",
    "version": 3
   },
   "file_extension": ".py",
   "mimetype": "text/x-python",
   "name": "python",
   "nbconvert_exporter": "python",
   "pygments_lexer": "ipython3",
   "version": "3.7.3"
  }
 },
 "nbformat": 4,
 "nbformat_minor": 2
}
