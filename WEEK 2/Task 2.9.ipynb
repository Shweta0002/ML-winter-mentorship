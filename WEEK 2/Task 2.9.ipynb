{
 "cells": [
  {
   "cell_type": "code",
   "execution_count": 3,
   "metadata": {},
   "outputs": [
    {
     "name": "stdout",
     "output_type": "stream",
     "text": [
      "Sine(array elements): [0.0000000e+00 1.0000000e+00 1.2246468e-16]\n",
      "e^(array elements): [ 1.          2.71828183  7.3890561  20.08553692]\n",
      "Square root(array elements): [0.         1.         1.41421356 1.73205081]\n"
     ]
    }
   ],
   "source": [
    " \n",
    "import numpy as np  \n",
    "a = np.array([0, np.pi/2, np.pi]) \n",
    "print (\"Sine(array elements):\", np.sin(a))  \n",
    "a = np.array([0, 1, 2, 3]) \n",
    "print (\"e^(array elements):\", np.exp(a)) \n",
    "print (\"Square root(array elements):\", np.sqrt(a)) \n"
   ]
  },
  {
   "cell_type": "code",
   "execution_count": null,
   "metadata": {},
   "outputs": [],
   "source": []
  }
 ],
 "metadata": {
  "kernelspec": {
   "display_name": "Python 3",
   "language": "python",
   "name": "python3"
  },
  "language_info": {
   "codemirror_mode": {
    "name": "ipython",
    "version": 3
   },
   "file_extension": ".py",
   "mimetype": "text/x-python",
   "name": "python",
   "nbconvert_exporter": "python",
   "pygments_lexer": "ipython3",
   "version": "3.7.3"
  }
 },
 "nbformat": 4,
 "nbformat_minor": 2
}
